{
  "nbformat": 4,
  "nbformat_minor": 0,
  "metadata": {
    "kernelspec": {
      "display_name": "Python 3",
      "language": "python",
      "name": "python3"
    },
    "language_info": {
      "codemirror_mode": {
        "name": "ipython",
        "version": 3
      },
      "file_extension": ".py",
      "mimetype": "text/x-python",
      "name": "python",
      "nbconvert_exporter": "python",
      "pygments_lexer": "ipython3",
      "version": "3.8.5"
    },
    "colab": {
      "name": "neural network gas turbine assignment",
      "provenance": [],
      "collapsed_sections": []
    }
  },
  "cells": [
    {
      "cell_type": "markdown",
      "metadata": {
        "id": "t4yUDhKATuUr"
      },
      "source": [
        "## Dataset - gas_turbines"
      ]
    },
    {
      "cell_type": "code",
      "metadata": {
        "colab": {
          "base_uri": "https://localhost:8080/"
        },
        "id": "zzaQLuacUDXU",
        "outputId": "97389d9c-d10d-4f37-ea91-f5dad264a413"
      },
      "source": [
        "from google.colab import drive\n",
        "drive.mount('/content/drive')"
      ],
      "execution_count": 1,
      "outputs": [
        {
          "output_type": "stream",
          "name": "stdout",
          "text": [
            "Mounted at /content/drive\n"
          ]
        }
      ]
    },
    {
      "cell_type": "markdown",
      "metadata": {
        "id": "TPszhF_xTuU9"
      },
      "source": [
        "#### The dataset contains 36733 instances of 11 sensor measures aggregated over one hour (by means of average or sum) from a gas turbine. \n",
        "#### The Dataset includes gas turbine parameters (such as Turbine Inlet Temperature and Compressor Discharge pressure) in addition to the ambient variables.\n",
        "\n",
        "## Problem statement: predicting turbine energy yield (TEY) using ambient variables as features.\n",
        "\n",
        "Attribute Information:\n",
        "\n",
        "The explanations of sensor measurements and their brief statistics are given below.\n",
        "\n",
        "Variable (Abbr.) Unit Min Max Mean\n",
        "Ambient temperature (AT) C â€“6.23 37.10 17.71\n",
        "Ambient pressure (AP) mbar 985.85 1036.56 1013.07\n",
        "Ambient humidity (AH) (%) 24.08 100.20 77.87\n",
        "Air filter difference pressure (AFDP) mbar 2.09 7.61 3.93\n",
        "Gas turbine exhaust pressure (GTEP) mbar 17.70 40.72 25.56\n",
        "Turbine inlet temperature (TIT) C 1000.85 1100.89 1081.43\n",
        "Turbine after temperature (TAT) C 511.04 550.61 546.16\n",
        "Compressor discharge pressure (CDP) mbar 9.85 15.16 12.06\n",
        "Turbine energy yield (TEY) MWH 100.02 179.50 133.51\n",
        "Carbon monoxide (CO) mg/m3 0.00 44.10 2.37\n",
        "Nitrogen oxides (NOx) mg/m3 25.90 119.91 65.29"
      ]
    },
    {
      "cell_type": "markdown",
      "metadata": {
        "id": "7t98FSlMTuVE"
      },
      "source": [
        "# Importing necessary packages"
      ]
    },
    {
      "cell_type": "code",
      "metadata": {
        "id": "3v0NRlYBTuVH"
      },
      "source": [
        "import pandas as pd\n",
        "import numpy as np\n",
        "import matplotlib.pyplot as plt\n",
        "import seaborn as sns\n",
        "import keras\n",
        "from sklearn.preprocessing import StandardScaler\n",
        "from keras.models import Sequential\n",
        "from keras.layers import Dense"
      ],
      "execution_count": 2,
      "outputs": []
    },
    {
      "cell_type": "markdown",
      "metadata": {
        "id": "ffmZmm1OTuVN"
      },
      "source": [
        "### Load & Understand the data set"
      ]
    },
    {
      "cell_type": "code",
      "metadata": {
        "id": "7lAIL-lwTuVP"
      },
      "source": [
        "data = pd.read_csv(\"/content/drive/MyDrive/Colab Notebooks/gas_turbines.csv\")"
      ],
      "execution_count": 3,
      "outputs": []
    },
    {
      "cell_type": "code",
      "metadata": {
        "colab": {
          "base_uri": "https://localhost:8080/",
          "height": 204
        },
        "id": "yxOZsV8CTuVT",
        "outputId": "b884a7cd-6974-4799-b4c6-865aa8e078d6"
      },
      "source": [
        "data[:5]"
      ],
      "execution_count": 4,
      "outputs": [
        {
          "output_type": "execute_result",
          "data": {
            "text/html": [
              "<div>\n",
              "<style scoped>\n",
              "    .dataframe tbody tr th:only-of-type {\n",
              "        vertical-align: middle;\n",
              "    }\n",
              "\n",
              "    .dataframe tbody tr th {\n",
              "        vertical-align: top;\n",
              "    }\n",
              "\n",
              "    .dataframe thead th {\n",
              "        text-align: right;\n",
              "    }\n",
              "</style>\n",
              "<table border=\"1\" class=\"dataframe\">\n",
              "  <thead>\n",
              "    <tr style=\"text-align: right;\">\n",
              "      <th></th>\n",
              "      <th>AT</th>\n",
              "      <th>AP</th>\n",
              "      <th>AH</th>\n",
              "      <th>AFDP</th>\n",
              "      <th>GTEP</th>\n",
              "      <th>TIT</th>\n",
              "      <th>TAT</th>\n",
              "      <th>TEY</th>\n",
              "      <th>CDP</th>\n",
              "      <th>CO</th>\n",
              "      <th>NOX</th>\n",
              "    </tr>\n",
              "  </thead>\n",
              "  <tbody>\n",
              "    <tr>\n",
              "      <th>0</th>\n",
              "      <td>6.8594</td>\n",
              "      <td>1007.9</td>\n",
              "      <td>96.799</td>\n",
              "      <td>3.5000</td>\n",
              "      <td>19.663</td>\n",
              "      <td>1059.2</td>\n",
              "      <td>550.00</td>\n",
              "      <td>114.70</td>\n",
              "      <td>10.605</td>\n",
              "      <td>3.1547</td>\n",
              "      <td>82.722</td>\n",
              "    </tr>\n",
              "    <tr>\n",
              "      <th>1</th>\n",
              "      <td>6.7850</td>\n",
              "      <td>1008.4</td>\n",
              "      <td>97.118</td>\n",
              "      <td>3.4998</td>\n",
              "      <td>19.728</td>\n",
              "      <td>1059.3</td>\n",
              "      <td>550.00</td>\n",
              "      <td>114.72</td>\n",
              "      <td>10.598</td>\n",
              "      <td>3.2363</td>\n",
              "      <td>82.776</td>\n",
              "    </tr>\n",
              "    <tr>\n",
              "      <th>2</th>\n",
              "      <td>6.8977</td>\n",
              "      <td>1008.8</td>\n",
              "      <td>95.939</td>\n",
              "      <td>3.4824</td>\n",
              "      <td>19.779</td>\n",
              "      <td>1059.4</td>\n",
              "      <td>549.87</td>\n",
              "      <td>114.71</td>\n",
              "      <td>10.601</td>\n",
              "      <td>3.2012</td>\n",
              "      <td>82.468</td>\n",
              "    </tr>\n",
              "    <tr>\n",
              "      <th>3</th>\n",
              "      <td>7.0569</td>\n",
              "      <td>1009.2</td>\n",
              "      <td>95.249</td>\n",
              "      <td>3.4805</td>\n",
              "      <td>19.792</td>\n",
              "      <td>1059.6</td>\n",
              "      <td>549.99</td>\n",
              "      <td>114.72</td>\n",
              "      <td>10.606</td>\n",
              "      <td>3.1923</td>\n",
              "      <td>82.670</td>\n",
              "    </tr>\n",
              "    <tr>\n",
              "      <th>4</th>\n",
              "      <td>7.3978</td>\n",
              "      <td>1009.7</td>\n",
              "      <td>95.150</td>\n",
              "      <td>3.4976</td>\n",
              "      <td>19.765</td>\n",
              "      <td>1059.7</td>\n",
              "      <td>549.98</td>\n",
              "      <td>114.72</td>\n",
              "      <td>10.612</td>\n",
              "      <td>3.2484</td>\n",
              "      <td>82.311</td>\n",
              "    </tr>\n",
              "  </tbody>\n",
              "</table>\n",
              "</div>"
            ],
            "text/plain": [
              "       AT      AP      AH    AFDP  ...     TEY     CDP      CO     NOX\n",
              "0  6.8594  1007.9  96.799  3.5000  ...  114.70  10.605  3.1547  82.722\n",
              "1  6.7850  1008.4  97.118  3.4998  ...  114.72  10.598  3.2363  82.776\n",
              "2  6.8977  1008.8  95.939  3.4824  ...  114.71  10.601  3.2012  82.468\n",
              "3  7.0569  1009.2  95.249  3.4805  ...  114.72  10.606  3.1923  82.670\n",
              "4  7.3978  1009.7  95.150  3.4976  ...  114.72  10.612  3.2484  82.311\n",
              "\n",
              "[5 rows x 11 columns]"
            ]
          },
          "metadata": {},
          "execution_count": 4
        }
      ]
    },
    {
      "cell_type": "code",
      "metadata": {
        "colab": {
          "base_uri": "https://localhost:8080/"
        },
        "id": "j9OTpfQfTuVa",
        "outputId": "3708c727-da2a-4c08-bff7-421b24d31cc4"
      },
      "source": [
        "data.shape"
      ],
      "execution_count": 5,
      "outputs": [
        {
          "output_type": "execute_result",
          "data": {
            "text/plain": [
              "(15039, 11)"
            ]
          },
          "metadata": {},
          "execution_count": 5
        }
      ]
    },
    {
      "cell_type": "code",
      "metadata": {
        "colab": {
          "base_uri": "https://localhost:8080/"
        },
        "id": "326zrsKdTuVi",
        "outputId": "4d1f09cc-a913-4976-b97a-828c49ec5da4"
      },
      "source": [
        "data.isnull().sum()"
      ],
      "execution_count": 6,
      "outputs": [
        {
          "output_type": "execute_result",
          "data": {
            "text/plain": [
              "AT      0\n",
              "AP      0\n",
              "AH      0\n",
              "AFDP    0\n",
              "GTEP    0\n",
              "TIT     0\n",
              "TAT     0\n",
              "TEY     0\n",
              "CDP     0\n",
              "CO      0\n",
              "NOX     0\n",
              "dtype: int64"
            ]
          },
          "metadata": {},
          "execution_count": 6
        }
      ]
    },
    {
      "cell_type": "code",
      "metadata": {
        "colab": {
          "base_uri": "https://localhost:8080/"
        },
        "id": "g92ih2oiTuVt",
        "outputId": "e5b5f433-dd58-4859-e91c-17d3d54a6eba"
      },
      "source": [
        "data.info()"
      ],
      "execution_count": 7,
      "outputs": [
        {
          "output_type": "stream",
          "name": "stdout",
          "text": [
            "<class 'pandas.core.frame.DataFrame'>\n",
            "RangeIndex: 15039 entries, 0 to 15038\n",
            "Data columns (total 11 columns):\n",
            " #   Column  Non-Null Count  Dtype  \n",
            "---  ------  --------------  -----  \n",
            " 0   AT      15039 non-null  float64\n",
            " 1   AP      15039 non-null  float64\n",
            " 2   AH      15039 non-null  float64\n",
            " 3   AFDP    15039 non-null  float64\n",
            " 4   GTEP    15039 non-null  float64\n",
            " 5   TIT     15039 non-null  float64\n",
            " 6   TAT     15039 non-null  float64\n",
            " 7   TEY     15039 non-null  float64\n",
            " 8   CDP     15039 non-null  float64\n",
            " 9   CO      15039 non-null  float64\n",
            " 10  NOX     15039 non-null  float64\n",
            "dtypes: float64(11)\n",
            "memory usage: 1.3 MB\n"
          ]
        }
      ]
    },
    {
      "cell_type": "markdown",
      "metadata": {
        "id": "V3yM0Yb-TuVy"
      },
      "source": [
        "## Check and drop the duplicate values"
      ]
    },
    {
      "cell_type": "code",
      "metadata": {
        "colab": {
          "base_uri": "https://localhost:8080/",
          "height": 49
        },
        "id": "I4nS9spjTuV0",
        "outputId": "ac8a90a6-7b0d-4608-ee94-bcf643a76c28"
      },
      "source": [
        "data[data.duplicated()]"
      ],
      "execution_count": 8,
      "outputs": [
        {
          "output_type": "execute_result",
          "data": {
            "text/html": [
              "<div>\n",
              "<style scoped>\n",
              "    .dataframe tbody tr th:only-of-type {\n",
              "        vertical-align: middle;\n",
              "    }\n",
              "\n",
              "    .dataframe tbody tr th {\n",
              "        vertical-align: top;\n",
              "    }\n",
              "\n",
              "    .dataframe thead th {\n",
              "        text-align: right;\n",
              "    }\n",
              "</style>\n",
              "<table border=\"1\" class=\"dataframe\">\n",
              "  <thead>\n",
              "    <tr style=\"text-align: right;\">\n",
              "      <th></th>\n",
              "      <th>AT</th>\n",
              "      <th>AP</th>\n",
              "      <th>AH</th>\n",
              "      <th>AFDP</th>\n",
              "      <th>GTEP</th>\n",
              "      <th>TIT</th>\n",
              "      <th>TAT</th>\n",
              "      <th>TEY</th>\n",
              "      <th>CDP</th>\n",
              "      <th>CO</th>\n",
              "      <th>NOX</th>\n",
              "    </tr>\n",
              "  </thead>\n",
              "  <tbody>\n",
              "  </tbody>\n",
              "</table>\n",
              "</div>"
            ],
            "text/plain": [
              "Empty DataFrame\n",
              "Columns: [AT, AP, AH, AFDP, GTEP, TIT, TAT, TEY, CDP, CO, NOX]\n",
              "Index: []"
            ]
          },
          "metadata": {},
          "execution_count": 8
        }
      ]
    },
    {
      "cell_type": "markdown",
      "metadata": {
        "id": "wdZ3Xfi4TuV3"
      },
      "source": [
        "## Check the distribution and outliers"
      ]
    },
    {
      "cell_type": "code",
      "metadata": {
        "colab": {
          "base_uri": "https://localhost:8080/",
          "height": 729
        },
        "id": "ZbH0_QzuTuV5",
        "outputId": "7c820598-a3f8-4366-d059-bf7ad8044e23"
      },
      "source": [
        "# Visualization using distplot\n",
        "import warnings\n",
        "warnings.filterwarnings(\"ignore\")\n",
        "fig, ax = plt.subplots(4, 3, figsize=(15,10))\n",
        "sns.distplot(data.AT, ax=ax[0,0])\n",
        "sns.distplot(data.AP, ax=ax[0,1])\n",
        "sns.distplot(data.AH, ax=ax[0,2])\n",
        "sns.distplot(data.AFDP, ax=ax[1,0])\n",
        "sns.distplot(data.GTEP, ax=ax[1,1])\n",
        "sns.distplot(data.TIT, ax=ax[1,2])\n",
        "sns.distplot(data.TAT, ax=ax[2,0])\n",
        "sns.distplot(data.TEY, ax=ax[2,1])\n",
        "sns.distplot(data.CDP, ax=ax[2,2])\n",
        "sns.distplot(data.CO, ax=ax[3,0])\n",
        "sns.distplot(data.NOX, ax=ax[3,1])\n",
        "\n",
        "plt.tight_layout()\n",
        "plt.show()"
      ],
      "execution_count": 9,
      "outputs": [
        {
          "output_type": "display_data",
          "data": {
            "image/png": "[encoded data removed]",
            "text/plain": [
              "<Figure size 1080x720 with 12 Axes>"
            ]
          },
          "metadata": {
            "needs_background": "light"
          }
        }
      ]
    },
    {
      "cell_type": "code",
      "metadata": {
        "colab": {
          "base_uri": "https://localhost:8080/",
          "height": 729
        },
        "id": "9PQopz5ITuV8",
        "outputId": "1d9ed178-467c-4565-9c13-d10414189c04"
      },
      "source": [
        "# Checking of outliers\n",
        "fig, ax = plt.subplots(4, 3, figsize=(15,10))\n",
        "sns.boxplot(data.AT, ax=ax[0,0])\n",
        "sns.boxplot(data.AP, ax=ax[0,1])\n",
        "sns.boxplot(data.AH, ax=ax[0,2])\n",
        "sns.boxplot(data.AFDP, ax=ax[1,0])\n",
        "sns.boxplot(data.GTEP, ax=ax[1,1])\n",
        "sns.boxplot(data.TIT, ax=ax[1,2])\n",
        "sns.boxplot(data.TAT, ax=ax[2,0])\n",
        "sns.boxplot(data.TEY, ax=ax[2,1])\n",
        "sns.boxplot(data.CDP, ax=ax[2,2])\n",
        "sns.boxplot(data.CO, ax=ax[3,0])\n",
        "sns.boxplot(data.NOX, ax=ax[3,1])\n",
        "\n",
        "plt.tight_layout()\n",
        "plt.show()"
      ],
      "execution_count": 10,
      "outputs": [
        {
          "output_type": "display_data",
          "data": {
            "image/png": "[encoded data removed]",
            "text/plain": [
              "<Figure size 1080x720 with 12 Axes>"
            ]
          },
          "metadata": {
            "needs_background": "light"
          }
        }
      ]
    },
    {
      "cell_type": "code",
      "metadata": {
        "colab": {
          "base_uri": "https://localhost:8080/",
          "height": 419
        },
        "id": "W7QPfntmTuV-",
        "outputId": "f63557d1-0a2c-48ba-cbc6-22ce108d6f81"
      },
      "source": [
        "from sklearn.preprocessing import MinMaxScaler\n",
        "scale=MinMaxScaler()\n",
        "data1=pd.DataFrame(scale.fit_transform(data),columns=['AT','AP','AH','AFDP','GTEP','TIT','TAT','TEY','CDP','CO','NOX'])\n",
        "data1"
      ],
      "execution_count": 11,
      "outputs": [
        {
          "output_type": "execute_result",
          "data": {
            "text/html": [
              "<div>\n",
              "<style scoped>\n",
              "    .dataframe tbody tr th:only-of-type {\n",
              "        vertical-align: middle;\n",
              "    }\n",
              "\n",
              "    .dataframe tbody tr th {\n",
              "        vertical-align: top;\n",
              "    }\n",
              "\n",
              "    .dataframe thead th {\n",
              "        text-align: right;\n",
              "    }\n",
              "</style>\n",
              "<table border=\"1\" class=\"dataframe\">\n",
              "  <thead>\n",
              "    <tr style=\"text-align: right;\">\n",
              "      <th></th>\n",
              "      <th>AT</th>\n",
              "      <th>AP</th>\n",
              "      <th>AH</th>\n",
              "      <th>AFDP</th>\n",
              "      <th>GTEP</th>\n",
              "      <th>TIT</th>\n",
              "      <th>TAT</th>\n",
              "      <th>TEY</th>\n",
              "      <th>CDP</th>\n",
              "      <th>CO</th>\n",
              "      <th>NOX</th>\n",
              "    </tr>\n",
              "  </thead>\n",
              "  <tbody>\n",
              "    <tr>\n",
              "      <th>0</th>\n",
              "      <td>0.184182</td>\n",
              "      <td>0.456050</td>\n",
              "      <td>0.951314</td>\n",
              "      <td>0.255758</td>\n",
              "      <td>0.091426</td>\n",
              "      <td>0.584</td>\n",
              "      <td>0.984015</td>\n",
              "      <td>0.195191</td>\n",
              "      <td>0.135340</td>\n",
              "      <td>0.071522</td>\n",
              "      <td>0.596548</td>\n",
              "    </tr>\n",
              "    <tr>\n",
              "      <th>1</th>\n",
              "      <td>0.182020</td>\n",
              "      <td>0.466391</td>\n",
              "      <td>0.955881</td>\n",
              "      <td>0.255721</td>\n",
              "      <td>0.094755</td>\n",
              "      <td>0.585</td>\n",
              "      <td>0.984015</td>\n",
              "      <td>0.195459</td>\n",
              "      <td>0.133988</td>\n",
              "      <td>0.073372</td>\n",
              "      <td>0.597134</td>\n",
              "    </tr>\n",
              "    <tr>\n",
              "      <th>2</th>\n",
              "      <td>0.185295</td>\n",
              "      <td>0.474664</td>\n",
              "      <td>0.939003</td>\n",
              "      <td>0.252571</td>\n",
              "      <td>0.097367</td>\n",
              "      <td>0.586</td>\n",
              "      <td>0.980608</td>\n",
              "      <td>0.195325</td>\n",
              "      <td>0.134567</td>\n",
              "      <td>0.072576</td>\n",
              "      <td>0.593791</td>\n",
              "    </tr>\n",
              "    <tr>\n",
              "      <th>3</th>\n",
              "      <td>0.189922</td>\n",
              "      <td>0.482937</td>\n",
              "      <td>0.929126</td>\n",
              "      <td>0.252227</td>\n",
              "      <td>0.098033</td>\n",
              "      <td>0.588</td>\n",
              "      <td>0.983753</td>\n",
              "      <td>0.195459</td>\n",
              "      <td>0.135533</td>\n",
              "      <td>0.072375</td>\n",
              "      <td>0.595984</td>\n",
              "    </tr>\n",
              "    <tr>\n",
              "      <th>4</th>\n",
              "      <td>0.199830</td>\n",
              "      <td>0.493278</td>\n",
              "      <td>0.927708</td>\n",
              "      <td>0.255323</td>\n",
              "      <td>0.096650</td>\n",
              "      <td>0.589</td>\n",
              "      <td>0.983491</td>\n",
              "      <td>0.195459</td>\n",
              "      <td>0.136692</td>\n",
              "      <td>0.073647</td>\n",
              "      <td>0.592087</td>\n",
              "    </tr>\n",
              "    <tr>\n",
              "      <th>...</th>\n",
              "      <td>...</td>\n",
              "      <td>...</td>\n",
              "      <td>...</td>\n",
              "      <td>...</td>\n",
              "      <td>...</td>\n",
              "      <td>...</td>\n",
              "      <td>...</td>\n",
              "      <td>...</td>\n",
              "      <td>...</td>\n",
              "      <td>...</td>\n",
              "      <td>...</td>\n",
              "    </tr>\n",
              "    <tr>\n",
              "      <th>15034</th>\n",
              "      <td>0.247272</td>\n",
              "      <td>0.408480</td>\n",
              "      <td>0.975092</td>\n",
              "      <td>0.263380</td>\n",
              "      <td>0.065868</td>\n",
              "      <td>0.489</td>\n",
              "      <td>0.884696</td>\n",
              "      <td>0.153681</td>\n",
              "      <td>0.095739</td>\n",
              "      <td>0.102448</td>\n",
              "      <td>0.562214</td>\n",
              "    </tr>\n",
              "    <tr>\n",
              "      <th>15035</th>\n",
              "      <td>0.214075</td>\n",
              "      <td>0.414685</td>\n",
              "      <td>0.984153</td>\n",
              "      <td>0.256826</td>\n",
              "      <td>0.078672</td>\n",
              "      <td>0.455</td>\n",
              "      <td>0.806342</td>\n",
              "      <td>0.155965</td>\n",
              "      <td>0.102113</td>\n",
              "      <td>0.109894</td>\n",
              "      <td>0.566100</td>\n",
              "    </tr>\n",
              "    <tr>\n",
              "      <th>15036</th>\n",
              "      <td>0.195962</td>\n",
              "      <td>0.422958</td>\n",
              "      <td>0.989922</td>\n",
              "      <td>0.251593</td>\n",
              "      <td>0.084614</td>\n",
              "      <td>0.369</td>\n",
              "      <td>0.651730</td>\n",
              "      <td>0.134605</td>\n",
              "      <td>0.111772</td>\n",
              "      <td>0.180552</td>\n",
              "      <td>0.685449</td>\n",
              "    </tr>\n",
              "    <tr>\n",
              "      <th>15037</th>\n",
              "      <td>0.188443</td>\n",
              "      <td>0.433299</td>\n",
              "      <td>0.982936</td>\n",
              "      <td>0.246451</td>\n",
              "      <td>0.076777</td>\n",
              "      <td>0.424</td>\n",
              "      <td>0.754455</td>\n",
              "      <td>0.141994</td>\n",
              "      <td>0.121431</td>\n",
              "      <td>0.141693</td>\n",
              "      <td>0.710578</td>\n",
              "    </tr>\n",
              "    <tr>\n",
              "      <th>15038</th>\n",
              "      <td>0.186173</td>\n",
              "      <td>0.441572</td>\n",
              "      <td>0.961821</td>\n",
              "      <td>0.242631</td>\n",
              "      <td>0.073141</td>\n",
              "      <td>0.491</td>\n",
              "      <td>0.875262</td>\n",
              "      <td>0.153278</td>\n",
              "      <td>0.131090</td>\n",
              "      <td>0.112946</td>\n",
              "      <td>0.702665</td>\n",
              "    </tr>\n",
              "  </tbody>\n",
              "</table>\n",
              "<p>15039 rows × 11 columns</p>\n",
              "</div>"
            ],
            "text/plain": [
              "             AT        AP        AH  ...       CDP        CO       NOX\n",
              "0      0.184182  0.456050  0.951314  ...  0.135340  0.071522  0.596548\n",
              "1      0.182020  0.466391  0.955881  ...  0.133988  0.073372  0.597134\n",
              "2      0.185295  0.474664  0.939003  ...  0.134567  0.072576  0.593791\n",
              "3      0.189922  0.482937  0.929126  ...  0.135533  0.072375  0.595984\n",
              "4      0.199830  0.493278  0.927708  ...  0.136692  0.073647  0.592087\n",
              "...         ...       ...       ...  ...       ...       ...       ...\n",
              "15034  0.247272  0.408480  0.975092  ...  0.095739  0.102448  0.562214\n",
              "15035  0.214075  0.414685  0.984153  ...  0.102113  0.109894  0.566100\n",
              "15036  0.195962  0.422958  0.989922  ...  0.111772  0.180552  0.685449\n",
              "15037  0.188443  0.433299  0.982936  ...  0.121431  0.141693  0.710578\n",
              "15038  0.186173  0.441572  0.961821  ...  0.131090  0.112946  0.702665\n",
              "\n",
              "[15039 rows x 11 columns]"
            ]
          },
          "metadata": {},
          "execution_count": 11
        }
      ]
    },
    {
      "cell_type": "markdown",
      "metadata": {
        "id": "siowwmkETuWA"
      },
      "source": [
        "### Extracting the independent and dependent variables"
      ]
    },
    {
      "cell_type": "code",
      "metadata": {
        "id": "nFFtUzxlTuWB"
      },
      "source": [
        "X = data1.drop(axis=0,columns=\"TEY\").values\n",
        "Y = data1[\"TEY\"].values"
      ],
      "execution_count": 12,
      "outputs": []
    },
    {
      "cell_type": "code",
      "metadata": {
        "colab": {
          "base_uri": "https://localhost:8080/"
        },
        "id": "CNiVdaIdTuWD",
        "outputId": "3c0e7670-55a4-4830-b01d-9645e80c0614"
      },
      "source": [
        "X"
      ],
      "execution_count": 13,
      "outputs": [
        {
          "output_type": "execute_result",
          "data": {
            "text/plain": [
              "array([[0.18418215, 0.45604964, 0.95131413, ..., 0.1353398 , 0.07152212,\n",
              "        0.59654817],\n",
              "       [0.18201978, 0.4663909 , 0.95588067, ..., 0.13398756, 0.07337235,\n",
              "        0.59713433],\n",
              "       [0.18529531, 0.47466391, 0.93900309, ..., 0.13456709, 0.07257648,\n",
              "        0.59379104],\n",
              "       ...,\n",
              "       [0.19596183, 0.4229576 , 0.98992213, ..., 0.11177221, 0.18055195,\n",
              "        0.68544912],\n",
              "       [0.18844295, 0.43329886, 0.98293633, ..., 0.12143106, 0.14169257,\n",
              "        0.71057802],\n",
              "       [0.18617304, 0.44157187, 0.96182146, ..., 0.1310899 , 0.11294597,\n",
              "        0.70266486]])"
            ]
          },
          "metadata": {},
          "execution_count": 13
        }
      ]
    },
    {
      "cell_type": "code",
      "metadata": {
        "colab": {
          "base_uri": "https://localhost:8080/"
        },
        "id": "JjLheHeNTuWG",
        "outputId": "9be4be05-d0e2-46bc-f2f5-ebb1c50c4aa0"
      },
      "source": [
        "Y"
      ],
      "execution_count": 14,
      "outputs": [
        {
          "output_type": "execute_result",
          "data": {
            "text/plain": [
              "array([0.19519076, 0.19545943, 0.19532509, ..., 0.13460505, 0.14199355,\n",
              "       0.15327781])"
            ]
          },
          "metadata": {},
          "execution_count": 14
        }
      ]
    },
    {
      "cell_type": "code",
      "metadata": {
        "id": "XBY5nV9XTuWI"
      },
      "source": [
        ""
      ],
      "execution_count": null,
      "outputs": []
    },
    {
      "cell_type": "code",
      "metadata": {
        "id": "mGmuD0qKTuWK"
      },
      "source": [
        "# fix random seed for reproducibility\n",
        "seed = 7\n",
        "np.random.seed(seed)"
      ],
      "execution_count": 15,
      "outputs": []
    },
    {
      "cell_type": "code",
      "metadata": {
        "id": "GulfVi9UTuWO"
      },
      "source": [
        "# create model\n",
        "model = Sequential()\n",
        "model.add(Dense(12, input_dim=10, kernel_initializer='uniform', activation='relu'))\n",
        "model.add(Dense(8, kernel_initializer='uniform', activation='relu'))\n",
        "model.add(Dense(1, kernel_initializer='uniform', activation='sigmoid'))"
      ],
      "execution_count": 16,
      "outputs": []
    },
    {
      "cell_type": "code",
      "metadata": {
        "id": "UXs-nURLTuWQ"
      },
      "source": [
        "# Compile model\n",
        "model.compile(loss='mse', optimizer='adam', metrics=['accuracy'])"
      ],
      "execution_count": 17,
      "outputs": []
    },
    {
      "cell_type": "code",
      "metadata": {
        "colab": {
          "base_uri": "https://localhost:8080/"
        },
        "id": "h6SspbgxTuWR",
        "outputId": "a633c2d6-1307-4846-b991-e89f04b1d648"
      },
      "source": [
        "# Fit the model\n",
        "model.fit(X, Y, validation_split=0.33, epochs=100, batch_size=10)"
      ],
      "execution_count": 18,
      "outputs": [
        {
          "output_type": "stream",
          "name": "stdout",
          "text": [
            "Epoch 1/100\n",
            "1008/1008 [==============================] - 3s 2ms/step - loss: 0.0096 - accuracy: 9.9246e-05 - val_loss: 8.9041e-04 - val_accuracy: 2.0149e-04\n",
            "Epoch 2/100\n",
            "1008/1008 [==============================] - 2s 2ms/step - loss: 5.2992e-04 - accuracy: 9.9246e-05 - val_loss: 7.1562e-04 - val_accuracy: 2.0149e-04\n",
            "Epoch 3/100\n",
            "1008/1008 [==============================] - 2s 2ms/step - loss: 4.0277e-04 - accuracy: 9.9246e-05 - val_loss: 4.2741e-04 - val_accuracy: 2.0149e-04\n",
            "Epoch 4/100\n",
            "1008/1008 [==============================] - 2s 2ms/step - loss: 3.4322e-04 - accuracy: 9.9246e-05 - val_loss: 3.2295e-04 - val_accuracy: 2.0149e-04\n",
            "Epoch 5/100\n",
            "1008/1008 [==============================] - 2s 2ms/step - loss: 3.0717e-04 - accuracy: 9.9246e-05 - val_loss: 3.1290e-04 - val_accuracy: 2.0149e-04\n",
            "Epoch 6/100\n",
            "1008/1008 [==============================] - 2s 2ms/step - loss: 2.9113e-04 - accuracy: 9.9246e-05 - val_loss: 2.6595e-04 - val_accuracy: 2.0149e-04\n",
            "Epoch 7/100\n",
            "1008/1008 [==============================] - 2s 2ms/step - loss: 2.7859e-04 - accuracy: 9.9246e-05 - val_loss: 2.8445e-04 - val_accuracy: 2.0149e-04\n",
            "Epoch 8/100\n",
            "1008/1008 [==============================] - 2s 2ms/step - loss: 2.7765e-04 - accuracy: 9.9246e-05 - val_loss: 2.5026e-04 - val_accuracy: 2.0149e-04\n",
            "Epoch 9/100\n",
            "1008/1008 [==============================] - 2s 2ms/step - loss: 2.7657e-04 - accuracy: 9.9246e-05 - val_loss: 2.7932e-04 - val_accuracy: 2.0149e-04\n",
            "Epoch 10/100\n",
            "1008/1008 [==============================] - 2s 2ms/step - loss: 2.7687e-04 - accuracy: 9.9246e-05 - val_loss: 2.7145e-04 - val_accuracy: 2.0149e-04\n",
            "Epoch 11/100\n",
            "1008/1008 [==============================] - 2s 2ms/step - loss: 2.8040e-04 - accuracy: 9.9246e-05 - val_loss: 2.4592e-04 - val_accuracy: 2.0149e-04\n",
            "Epoch 12/100\n",
            "1008/1008 [==============================] - 2s 2ms/step - loss: 2.7657e-04 - accuracy: 9.9246e-05 - val_loss: 2.6551e-04 - val_accuracy: 2.0149e-04\n",
            "Epoch 13/100\n",
            "1008/1008 [==============================] - 2s 2ms/step - loss: 2.7477e-04 - accuracy: 9.9246e-05 - val_loss: 2.5951e-04 - val_accuracy: 2.0149e-04\n",
            "Epoch 14/100\n",
            "1008/1008 [==============================] - 2s 2ms/step - loss: 2.7367e-04 - accuracy: 9.9246e-05 - val_loss: 2.6431e-04 - val_accuracy: 2.0149e-04\n",
            "Epoch 15/100\n",
            "1008/1008 [==============================] - 2s 2ms/step - loss: 2.6889e-04 - accuracy: 9.9246e-05 - val_loss: 3.2890e-04 - val_accuracy: 2.0149e-04\n",
            "Epoch 16/100\n",
            "1008/1008 [==============================] - 2s 2ms/step - loss: 2.7910e-04 - accuracy: 9.9246e-05 - val_loss: 2.8109e-04 - val_accuracy: 2.0149e-04\n",
            "Epoch 17/100\n",
            "1008/1008 [==============================] - 2s 2ms/step - loss: 2.7163e-04 - accuracy: 9.9246e-05 - val_loss: 2.4385e-04 - val_accuracy: 2.0149e-04\n",
            "Epoch 18/100\n",
            "1008/1008 [==============================] - 2s 2ms/step - loss: 2.7532e-04 - accuracy: 9.9246e-05 - val_loss: 2.6068e-04 - val_accuracy: 2.0149e-04\n",
            "Epoch 19/100\n",
            "1008/1008 [==============================] - 2s 2ms/step - loss: 2.6949e-04 - accuracy: 9.9246e-05 - val_loss: 2.5860e-04 - val_accuracy: 2.0149e-04\n",
            "Epoch 20/100\n",
            "1008/1008 [==============================] - 2s 2ms/step - loss: 2.7297e-04 - accuracy: 9.9246e-05 - val_loss: 2.6352e-04 - val_accuracy: 2.0149e-04\n",
            "Epoch 21/100\n",
            "1008/1008 [==============================] - 2s 2ms/step - loss: 2.7000e-04 - accuracy: 9.9246e-05 - val_loss: 2.6160e-04 - val_accuracy: 2.0149e-04\n",
            "Epoch 22/100\n",
            "1008/1008 [==============================] - 2s 2ms/step - loss: 2.7271e-04 - accuracy: 9.9246e-05 - val_loss: 2.4916e-04 - val_accuracy: 2.0149e-04\n",
            "Epoch 23/100\n",
            "1008/1008 [==============================] - 2s 2ms/step - loss: 2.7016e-04 - accuracy: 9.9246e-05 - val_loss: 2.3882e-04 - val_accuracy: 2.0149e-04\n",
            "Epoch 24/100\n",
            "1008/1008 [==============================] - 2s 2ms/step - loss: 2.7068e-04 - accuracy: 9.9246e-05 - val_loss: 2.4611e-04 - val_accuracy: 2.0149e-04\n",
            "Epoch 25/100\n",
            "1008/1008 [==============================] - 2s 2ms/step - loss: 2.7347e-04 - accuracy: 9.9246e-05 - val_loss: 2.6213e-04 - val_accuracy: 2.0149e-04\n",
            "Epoch 26/100\n",
            "1008/1008 [==============================] - 2s 2ms/step - loss: 2.6769e-04 - accuracy: 9.9246e-05 - val_loss: 2.4163e-04 - val_accuracy: 2.0149e-04\n",
            "Epoch 27/100\n",
            "1008/1008 [==============================] - 2s 2ms/step - loss: 2.6859e-04 - accuracy: 9.9246e-05 - val_loss: 2.4833e-04 - val_accuracy: 2.0149e-04\n",
            "Epoch 28/100\n",
            "1008/1008 [==============================] - 2s 2ms/step - loss: 2.7352e-04 - accuracy: 9.9246e-05 - val_loss: 2.5540e-04 - val_accuracy: 2.0149e-04\n",
            "Epoch 29/100\n",
            "1008/1008 [==============================] - 2s 2ms/step - loss: 2.6646e-04 - accuracy: 9.9246e-05 - val_loss: 2.7587e-04 - val_accuracy: 2.0149e-04\n",
            "Epoch 30/100\n",
            "1008/1008 [==============================] - 2s 2ms/step - loss: 2.7094e-04 - accuracy: 9.9246e-05 - val_loss: 2.4690e-04 - val_accuracy: 2.0149e-04\n",
            "Epoch 31/100\n",
            "1008/1008 [==============================] - 2s 2ms/step - loss: 2.6733e-04 - accuracy: 9.9246e-05 - val_loss: 2.5528e-04 - val_accuracy: 2.0149e-04\n",
            "Epoch 32/100\n",
            "1008/1008 [==============================] - 2s 2ms/step - loss: 2.7477e-04 - accuracy: 9.9246e-05 - val_loss: 2.5432e-04 - val_accuracy: 2.0149e-04\n",
            "Epoch 33/100\n",
            "1008/1008 [==============================] - 2s 2ms/step - loss: 2.7056e-04 - accuracy: 9.9246e-05 - val_loss: 2.6542e-04 - val_accuracy: 2.0149e-04\n",
            "Epoch 34/100\n",
            "1008/1008 [==============================] - 2s 2ms/step - loss: 2.6839e-04 - accuracy: 9.9246e-05 - val_loss: 2.3403e-04 - val_accuracy: 2.0149e-04\n",
            "Epoch 35/100\n",
            "1008/1008 [==============================] - 2s 2ms/step - loss: 2.6643e-04 - accuracy: 9.9246e-05 - val_loss: 2.4874e-04 - val_accuracy: 2.0149e-04\n",
            "Epoch 36/100\n",
            "1008/1008 [==============================] - 2s 2ms/step - loss: 2.6875e-04 - accuracy: 9.9246e-05 - val_loss: 2.6086e-04 - val_accuracy: 2.0149e-04\n",
            "Epoch 37/100\n",
            "1008/1008 [==============================] - 2s 2ms/step - loss: 2.6891e-04 - accuracy: 9.9246e-05 - val_loss: 2.4772e-04 - val_accuracy: 2.0149e-04\n",
            "Epoch 38/100\n",
            "1008/1008 [==============================] - 2s 2ms/step - loss: 2.6890e-04 - accuracy: 9.9246e-05 - val_loss: 3.3093e-04 - val_accuracy: 2.0149e-04\n",
            "Epoch 39/100\n",
            "1008/1008 [==============================] - 2s 2ms/step - loss: 2.6542e-04 - accuracy: 9.9246e-05 - val_loss: 2.4991e-04 - val_accuracy: 2.0149e-04\n",
            "Epoch 40/100\n",
            "1008/1008 [==============================] - 2s 2ms/step - loss: 2.6405e-04 - accuracy: 9.9246e-05 - val_loss: 3.3368e-04 - val_accuracy: 2.0149e-04\n",
            "Epoch 41/100\n",
            "1008/1008 [==============================] - 2s 2ms/step - loss: 2.7077e-04 - accuracy: 9.9246e-05 - val_loss: 2.9821e-04 - val_accuracy: 2.0149e-04\n",
            "Epoch 42/100\n",
            "1008/1008 [==============================] - 2s 2ms/step - loss: 2.6989e-04 - accuracy: 9.9246e-05 - val_loss: 2.3343e-04 - val_accuracy: 2.0149e-04\n",
            "Epoch 43/100\n",
            "1008/1008 [==============================] - 2s 2ms/step - loss: 2.6704e-04 - accuracy: 9.9246e-05 - val_loss: 2.5520e-04 - val_accuracy: 2.0149e-04\n",
            "Epoch 44/100\n",
            "1008/1008 [==============================] - 2s 2ms/step - loss: 2.6899e-04 - accuracy: 9.9246e-05 - val_loss: 2.8517e-04 - val_accuracy: 2.0149e-04\n",
            "Epoch 45/100\n",
            "1008/1008 [==============================] - 2s 2ms/step - loss: 2.7064e-04 - accuracy: 9.9246e-05 - val_loss: 2.4771e-04 - val_accuracy: 2.0149e-04\n",
            "Epoch 46/100\n",
            "1008/1008 [==============================] - 2s 2ms/step - loss: 2.6754e-04 - accuracy: 9.9246e-05 - val_loss: 2.3238e-04 - val_accuracy: 2.0149e-04\n",
            "Epoch 47/100\n",
            "1008/1008 [==============================] - 2s 2ms/step - loss: 2.6807e-04 - accuracy: 9.9246e-05 - val_loss: 2.4506e-04 - val_accuracy: 2.0149e-04\n",
            "Epoch 48/100\n",
            "1008/1008 [==============================] - 2s 2ms/step - loss: 2.6709e-04 - accuracy: 9.9246e-05 - val_loss: 2.4901e-04 - val_accuracy: 2.0149e-04\n",
            "Epoch 49/100\n",
            "1008/1008 [==============================] - 2s 2ms/step - loss: 2.6687e-04 - accuracy: 9.9246e-05 - val_loss: 2.7119e-04 - val_accuracy: 2.0149e-04\n",
            "Epoch 50/100\n",
            "1008/1008 [==============================] - 2s 2ms/step - loss: 2.6812e-04 - accuracy: 9.9246e-05 - val_loss: 2.6455e-04 - val_accuracy: 2.0149e-04\n",
            "Epoch 51/100\n",
            "1008/1008 [==============================] - 2s 2ms/step - loss: 2.6534e-04 - accuracy: 9.9246e-05 - val_loss: 2.4662e-04 - val_accuracy: 2.0149e-04\n",
            "Epoch 52/100\n",
            "1008/1008 [==============================] - 2s 2ms/step - loss: 2.6836e-04 - accuracy: 9.9246e-05 - val_loss: 2.4355e-04 - val_accuracy: 2.0149e-04\n",
            "Epoch 53/100\n",
            "1008/1008 [==============================] - 2s 2ms/step - loss: 2.6946e-04 - accuracy: 9.9246e-05 - val_loss: 3.6928e-04 - val_accuracy: 2.0149e-04\n",
            "Epoch 54/100\n",
            "1008/1008 [==============================] - 2s 2ms/step - loss: 2.6958e-04 - accuracy: 9.9246e-05 - val_loss: 2.4258e-04 - val_accuracy: 2.0149e-04\n",
            "Epoch 55/100\n",
            "1008/1008 [==============================] - 2s 2ms/step - loss: 2.7141e-04 - accuracy: 9.9246e-05 - val_loss: 2.9101e-04 - val_accuracy: 2.0149e-04\n",
            "Epoch 56/100\n",
            "1008/1008 [==============================] - 2s 2ms/step - loss: 2.6708e-04 - accuracy: 9.9246e-05 - val_loss: 3.0731e-04 - val_accuracy: 2.0149e-04\n",
            "Epoch 57/100\n",
            "1008/1008 [==============================] - 2s 2ms/step - loss: 2.6736e-04 - accuracy: 9.9246e-05 - val_loss: 2.3746e-04 - val_accuracy: 2.0149e-04\n",
            "Epoch 58/100\n",
            "1008/1008 [==============================] - 2s 2ms/step - loss: 2.6215e-04 - accuracy: 9.9246e-05 - val_loss: 2.5119e-04 - val_accuracy: 2.0149e-04\n",
            "Epoch 59/100\n",
            "1008/1008 [==============================] - 2s 2ms/step - loss: 2.6706e-04 - accuracy: 9.9246e-05 - val_loss: 2.4142e-04 - val_accuracy: 2.0149e-04\n",
            "Epoch 60/100\n",
            "1008/1008 [==============================] - 2s 2ms/step - loss: 2.6678e-04 - accuracy: 9.9246e-05 - val_loss: 2.6409e-04 - val_accuracy: 2.0149e-04\n",
            "Epoch 61/100\n",
            "1008/1008 [==============================] - 2s 2ms/step - loss: 2.6330e-04 - accuracy: 9.9246e-05 - val_loss: 3.4306e-04 - val_accuracy: 2.0149e-04\n",
            "Epoch 62/100\n",
            "1008/1008 [==============================] - 2s 2ms/step - loss: 2.6213e-04 - accuracy: 9.9246e-05 - val_loss: 2.4321e-04 - val_accuracy: 2.0149e-04\n",
            "Epoch 63/100\n",
            "1008/1008 [==============================] - 2s 2ms/step - loss: 2.5916e-04 - accuracy: 9.9246e-05 - val_loss: 2.4713e-04 - val_accuracy: 2.0149e-04\n",
            "Epoch 64/100\n",
            "1008/1008 [==============================] - 2s 2ms/step - loss: 2.6503e-04 - accuracy: 9.9246e-05 - val_loss: 2.5509e-04 - val_accuracy: 2.0149e-04\n",
            "Epoch 65/100\n",
            "1008/1008 [==============================] - 2s 2ms/step - loss: 2.6726e-04 - accuracy: 9.9246e-05 - val_loss: 5.3399e-04 - val_accuracy: 2.0149e-04\n",
            "Epoch 66/100\n",
            "1008/1008 [==============================] - 2s 2ms/step - loss: 2.6319e-04 - accuracy: 9.9246e-05 - val_loss: 2.5795e-04 - val_accuracy: 2.0149e-04\n",
            "Epoch 67/100\n",
            "1008/1008 [==============================] - 2s 2ms/step - loss: 2.6654e-04 - accuracy: 9.9246e-05 - val_loss: 2.4142e-04 - val_accuracy: 2.0149e-04\n",
            "Epoch 68/100\n",
            "1008/1008 [==============================] - 2s 2ms/step - loss: 2.6076e-04 - accuracy: 9.9246e-05 - val_loss: 2.5036e-04 - val_accuracy: 2.0149e-04\n",
            "Epoch 69/100\n",
            "1008/1008 [==============================] - 2s 2ms/step - loss: 2.6544e-04 - accuracy: 9.9246e-05 - val_loss: 2.7045e-04 - val_accuracy: 2.0149e-04\n",
            "Epoch 70/100\n",
            "1008/1008 [==============================] - 2s 2ms/step - loss: 2.6931e-04 - accuracy: 9.9246e-05 - val_loss: 2.7019e-04 - val_accuracy: 2.0149e-04\n",
            "Epoch 71/100\n",
            "1008/1008 [==============================] - 2s 2ms/step - loss: 2.6592e-04 - accuracy: 9.9246e-05 - val_loss: 2.8592e-04 - val_accuracy: 2.0149e-04\n",
            "Epoch 72/100\n",
            "1008/1008 [==============================] - 2s 2ms/step - loss: 2.6498e-04 - accuracy: 9.9246e-05 - val_loss: 2.4738e-04 - val_accuracy: 2.0149e-04\n",
            "Epoch 73/100\n",
            "1008/1008 [==============================] - 2s 2ms/step - loss: 2.6568e-04 - accuracy: 9.9246e-05 - val_loss: 2.3216e-04 - val_accuracy: 2.0149e-04\n",
            "Epoch 74/100\n",
            "1008/1008 [==============================] - 2s 2ms/step - loss: 2.6224e-04 - accuracy: 9.9246e-05 - val_loss: 2.5131e-04 - val_accuracy: 2.0149e-04\n",
            "Epoch 75/100\n",
            "1008/1008 [==============================] - 2s 2ms/step - loss: 2.6668e-04 - accuracy: 9.9246e-05 - val_loss: 2.2932e-04 - val_accuracy: 2.0149e-04\n",
            "Epoch 76/100\n",
            "1008/1008 [==============================] - 2s 2ms/step - loss: 2.6697e-04 - accuracy: 9.9246e-05 - val_loss: 2.5248e-04 - val_accuracy: 2.0149e-04\n",
            "Epoch 77/100\n",
            "1008/1008 [==============================] - 2s 2ms/step - loss: 2.6326e-04 - accuracy: 9.9246e-05 - val_loss: 2.4178e-04 - val_accuracy: 2.0149e-04\n",
            "Epoch 78/100\n",
            "1008/1008 [==============================] - 2s 2ms/step - loss: 2.6348e-04 - accuracy: 9.9246e-05 - val_loss: 2.4134e-04 - val_accuracy: 2.0149e-04\n",
            "Epoch 79/100\n",
            "1008/1008 [==============================] - 2s 2ms/step - loss: 2.6437e-04 - accuracy: 9.9246e-05 - val_loss: 2.4823e-04 - val_accuracy: 2.0149e-04\n",
            "Epoch 80/100\n",
            "1008/1008 [==============================] - 2s 2ms/step - loss: 2.6014e-04 - accuracy: 9.9246e-05 - val_loss: 2.5890e-04 - val_accuracy: 2.0149e-04\n",
            "Epoch 81/100\n",
            "1008/1008 [==============================] - 2s 2ms/step - loss: 2.6074e-04 - accuracy: 9.9246e-05 - val_loss: 2.4791e-04 - val_accuracy: 2.0149e-04\n",
            "Epoch 82/100\n",
            "1008/1008 [==============================] - 2s 2ms/step - loss: 2.6223e-04 - accuracy: 9.9246e-05 - val_loss: 2.4006e-04 - val_accuracy: 2.0149e-04\n",
            "Epoch 83/100\n",
            "1008/1008 [==============================] - 2s 2ms/step - loss: 2.6560e-04 - accuracy: 9.9246e-05 - val_loss: 2.3374e-04 - val_accuracy: 2.0149e-04\n",
            "Epoch 84/100\n",
            "1008/1008 [==============================] - 2s 2ms/step - loss: 2.6129e-04 - accuracy: 9.9246e-05 - val_loss: 2.3604e-04 - val_accuracy: 2.0149e-04\n",
            "Epoch 85/100\n",
            "1008/1008 [==============================] - 2s 2ms/step - loss: 2.6320e-04 - accuracy: 9.9246e-05 - val_loss: 2.4669e-04 - val_accuracy: 2.0149e-04\n",
            "Epoch 86/100\n",
            "1008/1008 [==============================] - 2s 2ms/step - loss: 2.6289e-04 - accuracy: 9.9246e-05 - val_loss: 2.2843e-04 - val_accuracy: 2.0149e-04\n",
            "Epoch 87/100\n",
            "1008/1008 [==============================] - 2s 2ms/step - loss: 2.6356e-04 - accuracy: 9.9246e-05 - val_loss: 2.2961e-04 - val_accuracy: 2.0149e-04\n",
            "Epoch 88/100\n",
            "1008/1008 [==============================] - 2s 2ms/step - loss: 2.6146e-04 - accuracy: 9.9246e-05 - val_loss: 2.2359e-04 - val_accuracy: 2.0149e-04\n",
            "Epoch 89/100\n",
            "1008/1008 [==============================] - 2s 2ms/step - loss: 2.6053e-04 - accuracy: 9.9246e-05 - val_loss: 2.7800e-04 - val_accuracy: 2.0149e-04\n",
            "Epoch 90/100\n",
            "1008/1008 [==============================] - 2s 2ms/step - loss: 2.6475e-04 - accuracy: 9.9246e-05 - val_loss: 2.4560e-04 - val_accuracy: 2.0149e-04\n",
            "Epoch 91/100\n",
            "1008/1008 [==============================] - 2s 2ms/step - loss: 2.6480e-04 - accuracy: 9.9246e-05 - val_loss: 2.3928e-04 - val_accuracy: 2.0149e-04\n",
            "Epoch 92/100\n",
            "1008/1008 [==============================] - 2s 2ms/step - loss: 2.6383e-04 - accuracy: 9.9246e-05 - val_loss: 2.6444e-04 - val_accuracy: 2.0149e-04\n",
            "Epoch 93/100\n",
            "1008/1008 [==============================] - 2s 2ms/step - loss: 2.6459e-04 - accuracy: 9.9246e-05 - val_loss: 2.5041e-04 - val_accuracy: 2.0149e-04\n",
            "Epoch 94/100\n",
            "1008/1008 [==============================] - 2s 2ms/step - loss: 2.6083e-04 - accuracy: 9.9246e-05 - val_loss: 2.6459e-04 - val_accuracy: 2.0149e-04\n",
            "Epoch 95/100\n",
            "1008/1008 [==============================] - 2s 2ms/step - loss: 2.6268e-04 - accuracy: 9.9246e-05 - val_loss: 2.9019e-04 - val_accuracy: 2.0149e-04\n",
            "Epoch 96/100\n",
            "1008/1008 [==============================] - 2s 2ms/step - loss: 2.6349e-04 - accuracy: 9.9246e-05 - val_loss: 2.4527e-04 - val_accuracy: 2.0149e-04\n",
            "Epoch 97/100\n",
            "1008/1008 [==============================] - 2s 2ms/step - loss: 2.5763e-04 - accuracy: 9.9246e-05 - val_loss: 2.5746e-04 - val_accuracy: 2.0149e-04\n",
            "Epoch 98/100\n",
            "1008/1008 [==============================] - 2s 2ms/step - loss: 2.6183e-04 - accuracy: 9.9246e-05 - val_loss: 2.4414e-04 - val_accuracy: 2.0149e-04\n",
            "Epoch 99/100\n",
            "1008/1008 [==============================] - 2s 2ms/step - loss: 2.6230e-04 - accuracy: 9.9246e-05 - val_loss: 2.9221e-04 - val_accuracy: 2.0149e-04\n",
            "Epoch 100/100\n",
            "1008/1008 [==============================] - 2s 2ms/step - loss: 2.6405e-04 - accuracy: 9.9246e-05 - val_loss: 2.4317e-04 - val_accuracy: 2.0149e-04\n"
          ]
        },
        {
          "output_type": "execute_result",
          "data": {
            "text/plain": [
              "<keras.callbacks.History at 0x7f2ca813b050>"
            ]
          },
          "metadata": {},
          "execution_count": 18
        }
      ]
    },
    {
      "cell_type": "code",
      "metadata": {
        "colab": {
          "base_uri": "https://localhost:8080/"
        },
        "id": "lZGhGSUUTuWT",
        "outputId": "b8e031e2-942d-48e1-b034-10b13df8f7b7"
      },
      "source": [
        "# evaluate the model\n",
        "scores = model.evaluate(X, Y)\n",
        "print(\"%s: %.2f%%\" % (model.metrics_names[1], scores[1]*100))"
      ],
      "execution_count": 19,
      "outputs": [
        {
          "output_type": "stream",
          "name": "stdout",
          "text": [
            "470/470 [==============================] - 1s 1ms/step - loss: 2.4663e-04 - accuracy: 1.3299e-04\n",
            "accuracy: 0.01%\n"
          ]
        }
      ]
    },
    {
      "cell_type": "code",
      "metadata": {
        "colab": {
          "base_uri": "https://localhost:8080/"
        },
        "id": "O14HdLzZTuWW",
        "outputId": "140479f9-e407-4b60-b822-0945b312928d"
      },
      "source": [
        "history = model.fit(X, Y, validation_split=0.33, epochs=100, batch_size=10)"
      ],
      "execution_count": 20,
      "outputs": [
        {
          "output_type": "stream",
          "name": "stdout",
          "text": [
            "Epoch 1/100\n",
            "1008/1008 [==============================] - 2s 2ms/step - loss: 2.6218e-04 - accuracy: 9.9246e-05 - val_loss: 2.4164e-04 - val_accuracy: 2.0149e-04\n",
            "Epoch 2/100\n",
            "1008/1008 [==============================] - 2s 2ms/step - loss: 2.6828e-04 - accuracy: 9.9246e-05 - val_loss: 2.5110e-04 - val_accuracy: 2.0149e-04\n",
            "Epoch 3/100\n",
            "1008/1008 [==============================] - 2s 2ms/step - loss: 2.5721e-04 - accuracy: 9.9246e-05 - val_loss: 2.7435e-04 - val_accuracy: 2.0149e-04\n",
            "Epoch 4/100\n",
            "1008/1008 [==============================] - 2s 2ms/step - loss: 2.5899e-04 - accuracy: 9.9246e-05 - val_loss: 2.3396e-04 - val_accuracy: 2.0149e-04\n",
            "Epoch 5/100\n",
            "1008/1008 [==============================] - 2s 2ms/step - loss: 2.5836e-04 - accuracy: 9.9246e-05 - val_loss: 2.2273e-04 - val_accuracy: 2.0149e-04\n",
            "Epoch 6/100\n",
            "1008/1008 [==============================] - 2s 2ms/step - loss: 2.6616e-04 - accuracy: 9.9246e-05 - val_loss: 2.3514e-04 - val_accuracy: 2.0149e-04\n",
            "Epoch 7/100\n",
            "1008/1008 [==============================] - 2s 2ms/step - loss: 2.6051e-04 - accuracy: 9.9246e-05 - val_loss: 2.3791e-04 - val_accuracy: 2.0149e-04\n",
            "Epoch 8/100\n",
            "1008/1008 [==============================] - 2s 2ms/step - loss: 2.6563e-04 - accuracy: 9.9246e-05 - val_loss: 2.5560e-04 - val_accuracy: 2.0149e-04\n",
            "Epoch 9/100\n",
            "1008/1008 [==============================] - 2s 2ms/step - loss: 2.6408e-04 - accuracy: 9.9246e-05 - val_loss: 2.5188e-04 - val_accuracy: 2.0149e-04\n",
            "Epoch 10/100\n",
            "1008/1008 [==============================] - 2s 2ms/step - loss: 2.6171e-04 - accuracy: 9.9246e-05 - val_loss: 2.8183e-04 - val_accuracy: 2.0149e-04\n",
            "Epoch 11/100\n",
            "1008/1008 [==============================] - 2s 2ms/step - loss: 2.6368e-04 - accuracy: 9.9246e-05 - val_loss: 2.6549e-04 - val_accuracy: 2.0149e-04\n",
            "Epoch 12/100\n",
            "1008/1008 [==============================] - 2s 2ms/step - loss: 2.5902e-04 - accuracy: 9.9246e-05 - val_loss: 2.4789e-04 - val_accuracy: 2.0149e-04\n",
            "Epoch 13/100\n",
            "1008/1008 [==============================] - 2s 2ms/step - loss: 2.6272e-04 - accuracy: 9.9246e-05 - val_loss: 2.2992e-04 - val_accuracy: 2.0149e-04\n",
            "Epoch 14/100\n",
            "1008/1008 [==============================] - 2s 2ms/step - loss: 2.5937e-04 - accuracy: 9.9246e-05 - val_loss: 2.3657e-04 - val_accuracy: 2.0149e-04\n",
            "Epoch 15/100\n",
            "1008/1008 [==============================] - 2s 2ms/step - loss: 2.6261e-04 - accuracy: 9.9246e-05 - val_loss: 2.3458e-04 - val_accuracy: 2.0149e-04\n",
            "Epoch 16/100\n",
            "1008/1008 [==============================] - 2s 2ms/step - loss: 2.6007e-04 - accuracy: 9.9246e-05 - val_loss: 2.4006e-04 - val_accuracy: 2.0149e-04\n",
            "Epoch 17/100\n",
            "1008/1008 [==============================] - 2s 2ms/step - loss: 2.5923e-04 - accuracy: 9.9246e-05 - val_loss: 2.7740e-04 - val_accuracy: 2.0149e-04\n",
            "Epoch 18/100\n",
            "1008/1008 [==============================] - 2s 2ms/step - loss: 2.6244e-04 - accuracy: 9.9246e-05 - val_loss: 2.4546e-04 - val_accuracy: 2.0149e-04\n",
            "Epoch 19/100\n",
            "1008/1008 [==============================] - 2s 2ms/step - loss: 2.4246e-04 - accuracy: 9.9246e-05 - val_loss: 2.2789e-04 - val_accuracy: 2.0149e-04\n",
            "Epoch 20/100\n",
            "1008/1008 [==============================] - 2s 2ms/step - loss: 2.0508e-04 - accuracy: 9.9246e-05 - val_loss: 3.1938e-04 - val_accuracy: 2.0149e-04\n",
            "Epoch 21/100\n",
            "1008/1008 [==============================] - 2s 2ms/step - loss: 1.8575e-04 - accuracy: 9.9246e-05 - val_loss: 1.9869e-04 - val_accuracy: 2.0149e-04\n",
            "Epoch 22/100\n",
            "1008/1008 [==============================] - 2s 2ms/step - loss: 1.6822e-04 - accuracy: 9.9246e-05 - val_loss: 1.7873e-04 - val_accuracy: 2.0149e-04\n",
            "Epoch 23/100\n",
            "1008/1008 [==============================] - 2s 2ms/step - loss: 1.6067e-04 - accuracy: 9.9246e-05 - val_loss: 1.7479e-04 - val_accuracy: 2.0149e-04\n",
            "Epoch 24/100\n",
            "1008/1008 [==============================] - 2s 2ms/step - loss: 1.5374e-04 - accuracy: 9.9246e-05 - val_loss: 1.6285e-04 - val_accuracy: 2.0149e-04\n",
            "Epoch 25/100\n",
            "1008/1008 [==============================] - 2s 2ms/step - loss: 1.5057e-04 - accuracy: 9.9246e-05 - val_loss: 1.6283e-04 - val_accuracy: 2.0149e-04\n",
            "Epoch 26/100\n",
            "1008/1008 [==============================] - 2s 2ms/step - loss: 1.4724e-04 - accuracy: 9.9246e-05 - val_loss: 2.5786e-04 - val_accuracy: 2.0149e-04\n",
            "Epoch 27/100\n",
            "1008/1008 [==============================] - 2s 2ms/step - loss: 1.3978e-04 - accuracy: 9.9246e-05 - val_loss: 1.4889e-04 - val_accuracy: 2.0149e-04\n",
            "Epoch 28/100\n",
            "1008/1008 [==============================] - 2s 2ms/step - loss: 1.4557e-04 - accuracy: 9.9246e-05 - val_loss: 1.4826e-04 - val_accuracy: 2.0149e-04\n",
            "Epoch 29/100\n",
            "1008/1008 [==============================] - 2s 2ms/step - loss: 1.4017e-04 - accuracy: 9.9246e-05 - val_loss: 1.8658e-04 - val_accuracy: 2.0149e-04\n",
            "Epoch 30/100\n",
            "1008/1008 [==============================] - 2s 2ms/step - loss: 1.3882e-04 - accuracy: 9.9246e-05 - val_loss: 1.6755e-04 - val_accuracy: 2.0149e-04\n",
            "Epoch 31/100\n",
            "1008/1008 [==============================] - 2s 2ms/step - loss: 1.3779e-04 - accuracy: 9.9246e-05 - val_loss: 1.5080e-04 - val_accuracy: 2.0149e-04\n",
            "Epoch 32/100\n",
            "1008/1008 [==============================] - 2s 2ms/step - loss: 1.3828e-04 - accuracy: 9.9246e-05 - val_loss: 1.4024e-04 - val_accuracy: 2.0149e-04\n",
            "Epoch 33/100\n",
            "1008/1008 [==============================] - 2s 2ms/step - loss: 1.3924e-04 - accuracy: 9.9246e-05 - val_loss: 1.6901e-04 - val_accuracy: 2.0149e-04\n",
            "Epoch 34/100\n",
            "1008/1008 [==============================] - 2s 2ms/step - loss: 1.3795e-04 - accuracy: 9.9246e-05 - val_loss: 1.5841e-04 - val_accuracy: 2.0149e-04\n",
            "Epoch 35/100\n",
            "1008/1008 [==============================] - 2s 2ms/step - loss: 1.3826e-04 - accuracy: 9.9246e-05 - val_loss: 1.4352e-04 - val_accuracy: 2.0149e-04\n",
            "Epoch 36/100\n",
            "1008/1008 [==============================] - 2s 2ms/step - loss: 1.3678e-04 - accuracy: 9.9246e-05 - val_loss: 1.3900e-04 - val_accuracy: 2.0149e-04\n",
            "Epoch 37/100\n",
            "1008/1008 [==============================] - 2s 2ms/step - loss: 1.3733e-04 - accuracy: 9.9246e-05 - val_loss: 1.4907e-04 - val_accuracy: 2.0149e-04\n",
            "Epoch 38/100\n",
            "1008/1008 [==============================] - 2s 2ms/step - loss: 1.3786e-04 - accuracy: 9.9246e-05 - val_loss: 1.4542e-04 - val_accuracy: 2.0149e-04\n",
            "Epoch 39/100\n",
            "1008/1008 [==============================] - 2s 2ms/step - loss: 1.3711e-04 - accuracy: 9.9246e-05 - val_loss: 1.3619e-04 - val_accuracy: 2.0149e-04\n",
            "Epoch 40/100\n",
            "1008/1008 [==============================] - 2s 2ms/step - loss: 1.3127e-04 - accuracy: 9.9246e-05 - val_loss: 1.3969e-04 - val_accuracy: 2.0149e-04\n",
            "Epoch 41/100\n",
            "1008/1008 [==============================] - 2s 2ms/step - loss: 1.3525e-04 - accuracy: 9.9246e-05 - val_loss: 1.7990e-04 - val_accuracy: 2.0149e-04\n",
            "Epoch 42/100\n",
            "1008/1008 [==============================] - 2s 2ms/step - loss: 1.3250e-04 - accuracy: 9.9246e-05 - val_loss: 1.4194e-04 - val_accuracy: 2.0149e-04\n",
            "Epoch 43/100\n",
            "1008/1008 [==============================] - 2s 2ms/step - loss: 1.3313e-04 - accuracy: 9.9246e-05 - val_loss: 1.3673e-04 - val_accuracy: 2.0149e-04\n",
            "Epoch 44/100\n",
            "1008/1008 [==============================] - 2s 2ms/step - loss: 1.3017e-04 - accuracy: 9.9246e-05 - val_loss: 1.5746e-04 - val_accuracy: 2.0149e-04\n",
            "Epoch 45/100\n",
            "1008/1008 [==============================] - 2s 2ms/step - loss: 1.3627e-04 - accuracy: 9.9246e-05 - val_loss: 1.5256e-04 - val_accuracy: 2.0149e-04\n",
            "Epoch 46/100\n",
            "1008/1008 [==============================] - 2s 2ms/step - loss: 1.3119e-04 - accuracy: 9.9246e-05 - val_loss: 1.3777e-04 - val_accuracy: 2.0149e-04\n",
            "Epoch 47/100\n",
            "1008/1008 [==============================] - 2s 2ms/step - loss: 1.2992e-04 - accuracy: 9.9246e-05 - val_loss: 1.3107e-04 - val_accuracy: 2.0149e-04\n",
            "Epoch 48/100\n",
            "1008/1008 [==============================] - 2s 2ms/step - loss: 1.3102e-04 - accuracy: 9.9246e-05 - val_loss: 1.4448e-04 - val_accuracy: 2.0149e-04\n",
            "Epoch 49/100\n",
            "1008/1008 [==============================] - 2s 2ms/step - loss: 1.3147e-04 - accuracy: 9.9246e-05 - val_loss: 1.3544e-04 - val_accuracy: 2.0149e-04\n",
            "Epoch 50/100\n",
            "1008/1008 [==============================] - 2s 2ms/step - loss: 1.2841e-04 - accuracy: 9.9246e-05 - val_loss: 1.4030e-04 - val_accuracy: 2.0149e-04\n",
            "Epoch 51/100\n",
            "1008/1008 [==============================] - 2s 2ms/step - loss: 1.2994e-04 - accuracy: 9.9246e-05 - val_loss: 1.3528e-04 - val_accuracy: 2.0149e-04\n",
            "Epoch 52/100\n",
            "1008/1008 [==============================] - 2s 2ms/step - loss: 1.2980e-04 - accuracy: 9.9246e-05 - val_loss: 1.5041e-04 - val_accuracy: 2.0149e-04\n",
            "Epoch 53/100\n",
            "1008/1008 [==============================] - 2s 2ms/step - loss: 1.2939e-04 - accuracy: 9.9246e-05 - val_loss: 1.3591e-04 - val_accuracy: 2.0149e-04\n",
            "Epoch 54/100\n",
            "1008/1008 [==============================] - 2s 2ms/step - loss: 1.2747e-04 - accuracy: 9.9246e-05 - val_loss: 1.3603e-04 - val_accuracy: 2.0149e-04\n",
            "Epoch 55/100\n",
            "1008/1008 [==============================] - 2s 2ms/step - loss: 1.2698e-04 - accuracy: 9.9246e-05 - val_loss: 1.3015e-04 - val_accuracy: 2.0149e-04\n",
            "Epoch 56/100\n",
            "1008/1008 [==============================] - 2s 2ms/step - loss: 1.2972e-04 - accuracy: 9.9246e-05 - val_loss: 1.3090e-04 - val_accuracy: 2.0149e-04\n",
            "Epoch 57/100\n",
            "1008/1008 [==============================] - 2s 2ms/step - loss: 1.2785e-04 - accuracy: 9.9246e-05 - val_loss: 1.3861e-04 - val_accuracy: 2.0149e-04\n",
            "Epoch 58/100\n",
            "1008/1008 [==============================] - 2s 2ms/step - loss: 1.2660e-04 - accuracy: 9.9246e-05 - val_loss: 1.2585e-04 - val_accuracy: 2.0149e-04\n",
            "Epoch 59/100\n",
            "1008/1008 [==============================] - 2s 2ms/step - loss: 1.2617e-04 - accuracy: 9.9246e-05 - val_loss: 1.2959e-04 - val_accuracy: 2.0149e-04\n",
            "Epoch 60/100\n",
            "1008/1008 [==============================] - 2s 2ms/step - loss: 1.2547e-04 - accuracy: 9.9246e-05 - val_loss: 1.2782e-04 - val_accuracy: 2.0149e-04\n",
            "Epoch 61/100\n",
            "1008/1008 [==============================] - 2s 2ms/step - loss: 1.2457e-04 - accuracy: 9.9246e-05 - val_loss: 1.5950e-04 - val_accuracy: 2.0149e-04\n",
            "Epoch 62/100\n",
            "1008/1008 [==============================] - 2s 2ms/step - loss: 1.2421e-04 - accuracy: 9.9246e-05 - val_loss: 1.2397e-04 - val_accuracy: 2.0149e-04\n",
            "Epoch 63/100\n",
            "1008/1008 [==============================] - 2s 2ms/step - loss: 1.2795e-04 - accuracy: 9.9246e-05 - val_loss: 1.8009e-04 - val_accuracy: 2.0149e-04\n",
            "Epoch 64/100\n",
            "1008/1008 [==============================] - 2s 2ms/step - loss: 1.2368e-04 - accuracy: 9.9246e-05 - val_loss: 1.4054e-04 - val_accuracy: 2.0149e-04\n",
            "Epoch 65/100\n",
            "1008/1008 [==============================] - 2s 2ms/step - loss: 1.2725e-04 - accuracy: 9.9246e-05 - val_loss: 1.6320e-04 - val_accuracy: 2.0149e-04\n",
            "Epoch 66/100\n",
            "1008/1008 [==============================] - 2s 2ms/step - loss: 1.2273e-04 - accuracy: 9.9246e-05 - val_loss: 1.2297e-04 - val_accuracy: 2.0149e-04\n",
            "Epoch 67/100\n",
            "1008/1008 [==============================] - 2s 2ms/step - loss: 1.2403e-04 - accuracy: 9.9246e-05 - val_loss: 1.4450e-04 - val_accuracy: 2.0149e-04\n",
            "Epoch 68/100\n",
            "1008/1008 [==============================] - 2s 2ms/step - loss: 1.2111e-04 - accuracy: 9.9246e-05 - val_loss: 1.4208e-04 - val_accuracy: 2.0149e-04\n",
            "Epoch 69/100\n",
            "1008/1008 [==============================] - 2s 2ms/step - loss: 1.2339e-04 - accuracy: 9.9246e-05 - val_loss: 1.2546e-04 - val_accuracy: 2.0149e-04\n",
            "Epoch 70/100\n",
            "1008/1008 [==============================] - 2s 2ms/step - loss: 1.2091e-04 - accuracy: 9.9246e-05 - val_loss: 1.3430e-04 - val_accuracy: 2.0149e-04\n",
            "Epoch 71/100\n",
            "1008/1008 [==============================] - 2s 2ms/step - loss: 1.2141e-04 - accuracy: 9.9246e-05 - val_loss: 1.3036e-04 - val_accuracy: 2.0149e-04\n",
            "Epoch 72/100\n",
            "1008/1008 [==============================] - 2s 2ms/step - loss: 1.2139e-04 - accuracy: 9.9246e-05 - val_loss: 1.2602e-04 - val_accuracy: 2.0149e-04\n",
            "Epoch 73/100\n",
            "1008/1008 [==============================] - 2s 2ms/step - loss: 1.1811e-04 - accuracy: 9.9246e-05 - val_loss: 1.2602e-04 - val_accuracy: 2.0149e-04\n",
            "Epoch 74/100\n",
            "1008/1008 [==============================] - 2s 2ms/step - loss: 1.1803e-04 - accuracy: 9.9246e-05 - val_loss: 1.2705e-04 - val_accuracy: 2.0149e-04\n",
            "Epoch 75/100\n",
            "1008/1008 [==============================] - 2s 2ms/step - loss: 1.1729e-04 - accuracy: 9.9246e-05 - val_loss: 1.1965e-04 - val_accuracy: 2.0149e-04\n",
            "Epoch 76/100\n",
            "1008/1008 [==============================] - 2s 2ms/step - loss: 1.1859e-04 - accuracy: 9.9246e-05 - val_loss: 1.2608e-04 - val_accuracy: 2.0149e-04\n",
            "Epoch 77/100\n",
            "1008/1008 [==============================] - 2s 2ms/step - loss: 1.1641e-04 - accuracy: 9.9246e-05 - val_loss: 1.5796e-04 - val_accuracy: 2.0149e-04\n",
            "Epoch 78/100\n",
            "1008/1008 [==============================] - 2s 2ms/step - loss: 1.1493e-04 - accuracy: 9.9246e-05 - val_loss: 1.2295e-04 - val_accuracy: 2.0149e-04\n",
            "Epoch 79/100\n",
            "1008/1008 [==============================] - 2s 2ms/step - loss: 1.1516e-04 - accuracy: 9.9246e-05 - val_loss: 1.2875e-04 - val_accuracy: 2.0149e-04\n",
            "Epoch 80/100\n",
            "1008/1008 [==============================] - 2s 2ms/step - loss: 1.1346e-04 - accuracy: 9.9246e-05 - val_loss: 1.1817e-04 - val_accuracy: 2.0149e-04\n",
            "Epoch 81/100\n",
            "1008/1008 [==============================] - 2s 2ms/step - loss: 1.1381e-04 - accuracy: 9.9246e-05 - val_loss: 1.1914e-04 - val_accuracy: 2.0149e-04\n",
            "Epoch 82/100\n",
            "1008/1008 [==============================] - 2s 2ms/step - loss: 1.1475e-04 - accuracy: 9.9246e-05 - val_loss: 1.3257e-04 - val_accuracy: 2.0149e-04\n",
            "Epoch 83/100\n",
            "1008/1008 [==============================] - 2s 2ms/step - loss: 1.1237e-04 - accuracy: 9.9246e-05 - val_loss: 1.3271e-04 - val_accuracy: 2.0149e-04\n",
            "Epoch 84/100\n",
            "1008/1008 [==============================] - 2s 2ms/step - loss: 1.1131e-04 - accuracy: 9.9246e-05 - val_loss: 1.2425e-04 - val_accuracy: 2.0149e-04\n",
            "Epoch 85/100\n",
            "1008/1008 [==============================] - 2s 2ms/step - loss: 1.1138e-04 - accuracy: 9.9246e-05 - val_loss: 1.4993e-04 - val_accuracy: 2.0149e-04\n",
            "Epoch 86/100\n",
            "1008/1008 [==============================] - 2s 2ms/step - loss: 1.1383e-04 - accuracy: 9.9246e-05 - val_loss: 1.3316e-04 - val_accuracy: 2.0149e-04\n",
            "Epoch 87/100\n",
            "1008/1008 [==============================] - 2s 2ms/step - loss: 1.1278e-04 - accuracy: 9.9246e-05 - val_loss: 1.2263e-04 - val_accuracy: 2.0149e-04\n",
            "Epoch 88/100\n",
            "1008/1008 [==============================] - 2s 2ms/step - loss: 1.1277e-04 - accuracy: 9.9246e-05 - val_loss: 1.2310e-04 - val_accuracy: 2.0149e-04\n",
            "Epoch 89/100\n",
            "1008/1008 [==============================] - 2s 2ms/step - loss: 1.1233e-04 - accuracy: 9.9246e-05 - val_loss: 1.2459e-04 - val_accuracy: 2.0149e-04\n",
            "Epoch 90/100\n",
            "1008/1008 [==============================] - 2s 2ms/step - loss: 1.1009e-04 - accuracy: 9.9246e-05 - val_loss: 1.2541e-04 - val_accuracy: 2.0149e-04\n",
            "Epoch 91/100\n",
            "1008/1008 [==============================] - 2s 2ms/step - loss: 1.1189e-04 - accuracy: 9.9246e-05 - val_loss: 1.1819e-04 - val_accuracy: 2.0149e-04\n",
            "Epoch 92/100\n",
            "1008/1008 [==============================] - 2s 2ms/step - loss: 1.1094e-04 - accuracy: 9.9246e-05 - val_loss: 1.2657e-04 - val_accuracy: 2.0149e-04\n",
            "Epoch 93/100\n",
            "1008/1008 [==============================] - 2s 2ms/step - loss: 1.1098e-04 - accuracy: 9.9246e-05 - val_loss: 1.2595e-04 - val_accuracy: 2.0149e-04\n",
            "Epoch 94/100\n",
            "1008/1008 [==============================] - 2s 2ms/step - loss: 1.1151e-04 - accuracy: 9.9246e-05 - val_loss: 1.2683e-04 - val_accuracy: 2.0149e-04\n",
            "Epoch 95/100\n",
            "1008/1008 [==============================] - 2s 2ms/step - loss: 1.0906e-04 - accuracy: 9.9246e-05 - val_loss: 1.2566e-04 - val_accuracy: 2.0149e-04\n",
            "Epoch 96/100\n",
            "1008/1008 [==============================] - 2s 2ms/step - loss: 1.0994e-04 - accuracy: 9.9246e-05 - val_loss: 1.2233e-04 - val_accuracy: 2.0149e-04\n",
            "Epoch 97/100\n",
            "1008/1008 [==============================] - 2s 2ms/step - loss: 1.1150e-04 - accuracy: 9.9246e-05 - val_loss: 1.2796e-04 - val_accuracy: 2.0149e-04\n",
            "Epoch 98/100\n",
            "1008/1008 [==============================] - 2s 2ms/step - loss: 1.1268e-04 - accuracy: 9.9246e-05 - val_loss: 1.2365e-04 - val_accuracy: 2.0149e-04\n",
            "Epoch 99/100\n",
            "1008/1008 [==============================] - 2s 2ms/step - loss: 1.0853e-04 - accuracy: 9.9246e-05 - val_loss: 1.5296e-04 - val_accuracy: 2.0149e-04\n",
            "Epoch 100/100\n",
            "1008/1008 [==============================] - 2s 2ms/step - loss: 1.1084e-04 - accuracy: 9.9246e-05 - val_loss: 1.3139e-04 - val_accuracy: 2.0149e-04\n"
          ]
        }
      ]
    },
    {
      "cell_type": "code",
      "metadata": {
        "colab": {
          "base_uri": "https://localhost:8080/"
        },
        "id": "vmDSTP8qTuWY",
        "outputId": "e65b7d28-016e-471e-e281-3d8f95722ae4"
      },
      "source": [
        "# Visualize training history\n",
        "\n",
        "# list all data in history\n",
        "model.history.history.keys()"
      ],
      "execution_count": 21,
      "outputs": [
        {
          "output_type": "execute_result",
          "data": {
            "text/plain": [
              "dict_keys(['loss', 'accuracy', 'val_loss', 'val_accuracy'])"
            ]
          },
          "metadata": {},
          "execution_count": 21
        }
      ]
    },
    {
      "cell_type": "code",
      "metadata": {
        "colab": {
          "base_uri": "https://localhost:8080/",
          "height": 573
        },
        "id": "YPZ9O0PaTuWa",
        "outputId": "c5c20434-a503-4d48-c562-249af532407e"
      },
      "source": [
        "# summarize history for accuracy\n",
        "plt.plot(history.history['accuracy'])\n",
        "plt.plot(history.history['val_accuracy'])\n",
        "plt.title('model accuracy')\n",
        "plt.ylabel('accuracy')\n",
        "plt.xlabel('epoch')\n",
        "plt.legend(['train', 'test'], loc='upper left')\n",
        "plt.show()\n",
        "# summarize history for loss\n",
        "plt.plot(history.history['loss'])\n",
        "plt.plot(history.history['val_loss'])\n",
        "plt.title('model loss')\n",
        "plt.ylabel('loss')\n",
        "plt.xlabel('epoch')\n",
        "plt.legend(['train', 'test'], loc='upper left')\n",
        "plt.show()\n"
      ],
      "execution_count": 22,
      "outputs": [
        {
          "output_type": "display_data",
          "data": {
            "image/png": "[encoded data removed]",
            "text/plain": [
              "<Figure size 432x288 with 1 Axes>"
            ]
          },
          "metadata": {
            "needs_background": "light"
          }
        },
        {
          "output_type": "display_data",
          "data": {
            "image/png": "[encoded data removed]",
            "text/plain": [
              "<Figure size 432x288 with 1 Axes>"
            ]
          },
          "metadata": {
            "needs_background": "light"
          }
        }
      ]
    },
    {
      "cell_type": "markdown",
      "metadata": {
        "id": "nZ_bcP-MTuWb"
      },
      "source": [
        "#### Tuning of Hyperparameters :- Batch Size and Epochs"
      ]
    },
    {
      "cell_type": "code",
      "metadata": {
        "id": "MxNfdxWdZxAQ"
      },
      "source": [
        "from tensorflow.keras.optimizers import Adam"
      ],
      "execution_count": 26,
      "outputs": []
    },
    {
      "cell_type": "code",
      "metadata": {
        "id": "a8WBmnXmTuWc"
      },
      "source": [
        "# Importing the necessary packages\n",
        "from sklearn.model_selection import GridSearchCV, KFold\n",
        "from keras.wrappers.scikit_learn import KerasClassifier\n"
      ],
      "execution_count": 27,
      "outputs": []
    },
    {
      "cell_type": "code",
      "metadata": {
        "id": "_bjxauk2TuWd"
      },
      "source": [
        "# create model\n",
        "def create_model():\n",
        "    model = Sequential()\n",
        "    model.add(Dense(12, input_dim=10, kernel_initializer='uniform', activation='relu'))\n",
        "    model.add(Dense(8, kernel_initializer='uniform', activation='relu'))\n",
        "    model.add(Dense(1, kernel_initializer='uniform', activation='sigmoid'))\n",
        "    \n",
        "    adam=Adam(lr=0.01)\n",
        "    model.compile(loss='mse', optimizer=adam, metrics=['accuracy'])\n",
        "    return model"
      ],
      "execution_count": 24,
      "outputs": []
    },
    {
      "cell_type": "code",
      "metadata": {
        "id": "mhmuvloFTuWe"
      },
      "source": [
        "# Create the model\n",
        "model = KerasClassifier(build_fn = create_model,verbose = 0)\n",
        "# Define the grid search parameters\n",
        "batch_size = [10,20,40]\n",
        "epochs = [10,50,100]\n",
        "# Make a dictionary of the grid search parameters\n",
        "param_grid = dict(batch_size = batch_size,epochs = epochs)\n",
        "# Build and fit the GridSearchCV\n",
        "grid = GridSearchCV(estimator = model,param_grid = param_grid,cv = KFold(),verbose = 10)\n"
      ],
      "execution_count": 29,
      "outputs": []
    }
  ]
}